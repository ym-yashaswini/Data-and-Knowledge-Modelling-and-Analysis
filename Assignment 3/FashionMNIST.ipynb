{
  "nbformat": 4,
  "nbformat_minor": 0,
  "metadata": {
    "colab": {
      "name": "FashionMNIST.ipynb",
      "provenance": [],
      "collapsed_sections": []
    },
    "kernelspec": {
      "display_name": "Python 3",
      "language": "python",
      "name": "python3"
    },
    "language_info": {
      "codemirror_mode": {
        "name": "ipython",
        "version": 3
      },
      "file_extension": ".py",
      "mimetype": "text/x-python",
      "name": "python",
      "nbconvert_exporter": "python",
      "pygments_lexer": "ipython3",
      "version": "3.6.7"
    },
    "accelerator": "GPU"
  },
  "cells": [
    {
      "cell_type": "markdown",
      "metadata": {
        "id": "PhtiD_Q4kt0_"
      },
      "source": [
        "# Importing Libraries"
      ]
    },
    {
      "cell_type": "code",
      "metadata": {
        "id": "1D7w6J3ayuUL"
      },
      "source": [
        "import numpy as np\n",
        "import pandas as pd \n",
        "import os\n",
        "\n",
        "import matplotlib.pyplot as plt\n",
        "import matplotlib.image as img\n",
        "import tensorflow as tf\n",
        "from keras.models import Sequential\n",
        "from keras.layers.core import Dense, Dropout, Flatten\n",
        "from keras.layers import Conv2D, MaxPooling2D\n",
        "from keras.utils import np_utils\n",
        "from keras.optimizers import SGD"
      ],
      "execution_count": null,
      "outputs": []
    },
    {
      "cell_type": "markdown",
      "metadata": {
        "id": "UW7e8EI4kx_K"
      },
      "source": [
        "# Loading Dataset and train test split"
      ]
    },
    {
      "cell_type": "code",
      "metadata": {
        "colab": {
          "base_uri": "https://localhost:8080/",
          "height": 269
        },
        "id": "44g3kYk-yuUQ",
        "outputId": "e3e59793-22d4-49b7-fa06-b6b46eb0658f"
      },
      "source": [
        "\n",
        "#print(os.listdir(\"../input/\"))\n",
        "testX = pd.read_csv('testX.csv')\n",
        "print(testX.shape)\n",
        "testX.head()"
      ],
      "execution_count": null,
      "outputs": [
        {
          "output_type": "stream",
          "text": [
            "(10000, 785)\n"
          ],
          "name": "stdout"
        },
        {
          "output_type": "execute_result",
          "data": {
            "text/html": [
              "<div>\n",
              "<style scoped>\n",
              "    .dataframe tbody tr th:only-of-type {\n",
              "        vertical-align: middle;\n",
              "    }\n",
              "\n",
              "    .dataframe tbody tr th {\n",
              "        vertical-align: top;\n",
              "    }\n",
              "\n",
              "    .dataframe thead th {\n",
              "        text-align: right;\n",
              "    }\n",
              "</style>\n",
              "<table border=\"1\" class=\"dataframe\">\n",
              "  <thead>\n",
              "    <tr style=\"text-align: right;\">\n",
              "      <th></th>\n",
              "      <th>Id</th>\n",
              "      <th>0</th>\n",
              "      <th>1</th>\n",
              "      <th>2</th>\n",
              "      <th>3</th>\n",
              "      <th>4</th>\n",
              "      <th>5</th>\n",
              "      <th>6</th>\n",
              "      <th>7</th>\n",
              "      <th>8</th>\n",
              "      <th>9</th>\n",
              "      <th>10</th>\n",
              "      <th>11</th>\n",
              "      <th>12</th>\n",
              "      <th>13</th>\n",
              "      <th>14</th>\n",
              "      <th>15</th>\n",
              "      <th>16</th>\n",
              "      <th>17</th>\n",
              "      <th>18</th>\n",
              "      <th>19</th>\n",
              "      <th>20</th>\n",
              "      <th>21</th>\n",
              "      <th>22</th>\n",
              "      <th>23</th>\n",
              "      <th>24</th>\n",
              "      <th>25</th>\n",
              "      <th>26</th>\n",
              "      <th>27</th>\n",
              "      <th>28</th>\n",
              "      <th>29</th>\n",
              "      <th>30</th>\n",
              "      <th>31</th>\n",
              "      <th>32</th>\n",
              "      <th>33</th>\n",
              "      <th>34</th>\n",
              "      <th>35</th>\n",
              "      <th>36</th>\n",
              "      <th>37</th>\n",
              "      <th>38</th>\n",
              "      <th>...</th>\n",
              "      <th>744</th>\n",
              "      <th>745</th>\n",
              "      <th>746</th>\n",
              "      <th>747</th>\n",
              "      <th>748</th>\n",
              "      <th>749</th>\n",
              "      <th>750</th>\n",
              "      <th>751</th>\n",
              "      <th>752</th>\n",
              "      <th>753</th>\n",
              "      <th>754</th>\n",
              "      <th>755</th>\n",
              "      <th>756</th>\n",
              "      <th>757</th>\n",
              "      <th>758</th>\n",
              "      <th>759</th>\n",
              "      <th>760</th>\n",
              "      <th>761</th>\n",
              "      <th>762</th>\n",
              "      <th>763</th>\n",
              "      <th>764</th>\n",
              "      <th>765</th>\n",
              "      <th>766</th>\n",
              "      <th>767</th>\n",
              "      <th>768</th>\n",
              "      <th>769</th>\n",
              "      <th>770</th>\n",
              "      <th>771</th>\n",
              "      <th>772</th>\n",
              "      <th>773</th>\n",
              "      <th>774</th>\n",
              "      <th>775</th>\n",
              "      <th>776</th>\n",
              "      <th>777</th>\n",
              "      <th>778</th>\n",
              "      <th>779</th>\n",
              "      <th>780</th>\n",
              "      <th>781</th>\n",
              "      <th>782</th>\n",
              "      <th>783</th>\n",
              "    </tr>\n",
              "  </thead>\n",
              "  <tbody>\n",
              "    <tr>\n",
              "      <th>0</th>\n",
              "      <td>0</td>\n",
              "      <td>0</td>\n",
              "      <td>0</td>\n",
              "      <td>0</td>\n",
              "      <td>0</td>\n",
              "      <td>0</td>\n",
              "      <td>0</td>\n",
              "      <td>0</td>\n",
              "      <td>0</td>\n",
              "      <td>0</td>\n",
              "      <td>0</td>\n",
              "      <td>0</td>\n",
              "      <td>0</td>\n",
              "      <td>0</td>\n",
              "      <td>0</td>\n",
              "      <td>0</td>\n",
              "      <td>0</td>\n",
              "      <td>0</td>\n",
              "      <td>0</td>\n",
              "      <td>0</td>\n",
              "      <td>0</td>\n",
              "      <td>0</td>\n",
              "      <td>0</td>\n",
              "      <td>0</td>\n",
              "      <td>0</td>\n",
              "      <td>0</td>\n",
              "      <td>0</td>\n",
              "      <td>0</td>\n",
              "      <td>0</td>\n",
              "      <td>0</td>\n",
              "      <td>0</td>\n",
              "      <td>0</td>\n",
              "      <td>0</td>\n",
              "      <td>0</td>\n",
              "      <td>0</td>\n",
              "      <td>0</td>\n",
              "      <td>0</td>\n",
              "      <td>0</td>\n",
              "      <td>0</td>\n",
              "      <td>0</td>\n",
              "      <td>...</td>\n",
              "      <td>0</td>\n",
              "      <td>0</td>\n",
              "      <td>0</td>\n",
              "      <td>0</td>\n",
              "      <td>0</td>\n",
              "      <td>0</td>\n",
              "      <td>0</td>\n",
              "      <td>0</td>\n",
              "      <td>0</td>\n",
              "      <td>0</td>\n",
              "      <td>0</td>\n",
              "      <td>0</td>\n",
              "      <td>0</td>\n",
              "      <td>0</td>\n",
              "      <td>0</td>\n",
              "      <td>0</td>\n",
              "      <td>0</td>\n",
              "      <td>0</td>\n",
              "      <td>0</td>\n",
              "      <td>0</td>\n",
              "      <td>0</td>\n",
              "      <td>0</td>\n",
              "      <td>0</td>\n",
              "      <td>0</td>\n",
              "      <td>0</td>\n",
              "      <td>0</td>\n",
              "      <td>0</td>\n",
              "      <td>0</td>\n",
              "      <td>0</td>\n",
              "      <td>0</td>\n",
              "      <td>0</td>\n",
              "      <td>0</td>\n",
              "      <td>0</td>\n",
              "      <td>0</td>\n",
              "      <td>0</td>\n",
              "      <td>0</td>\n",
              "      <td>0</td>\n",
              "      <td>0</td>\n",
              "      <td>0</td>\n",
              "      <td>0</td>\n",
              "    </tr>\n",
              "    <tr>\n",
              "      <th>1</th>\n",
              "      <td>1</td>\n",
              "      <td>0</td>\n",
              "      <td>0</td>\n",
              "      <td>0</td>\n",
              "      <td>0</td>\n",
              "      <td>0</td>\n",
              "      <td>1</td>\n",
              "      <td>0</td>\n",
              "      <td>0</td>\n",
              "      <td>0</td>\n",
              "      <td>0</td>\n",
              "      <td>41</td>\n",
              "      <td>188</td>\n",
              "      <td>103</td>\n",
              "      <td>54</td>\n",
              "      <td>48</td>\n",
              "      <td>43</td>\n",
              "      <td>87</td>\n",
              "      <td>168</td>\n",
              "      <td>133</td>\n",
              "      <td>16</td>\n",
              "      <td>0</td>\n",
              "      <td>0</td>\n",
              "      <td>0</td>\n",
              "      <td>0</td>\n",
              "      <td>0</td>\n",
              "      <td>0</td>\n",
              "      <td>0</td>\n",
              "      <td>0</td>\n",
              "      <td>0</td>\n",
              "      <td>0</td>\n",
              "      <td>0</td>\n",
              "      <td>1</td>\n",
              "      <td>0</td>\n",
              "      <td>0</td>\n",
              "      <td>0</td>\n",
              "      <td>49</td>\n",
              "      <td>136</td>\n",
              "      <td>219</td>\n",
              "      <td>216</td>\n",
              "      <td>...</td>\n",
              "      <td>244</td>\n",
              "      <td>240</td>\n",
              "      <td>243</td>\n",
              "      <td>214</td>\n",
              "      <td>224</td>\n",
              "      <td>162</td>\n",
              "      <td>0</td>\n",
              "      <td>2</td>\n",
              "      <td>0</td>\n",
              "      <td>0</td>\n",
              "      <td>0</td>\n",
              "      <td>0</td>\n",
              "      <td>0</td>\n",
              "      <td>0</td>\n",
              "      <td>0</td>\n",
              "      <td>0</td>\n",
              "      <td>0</td>\n",
              "      <td>1</td>\n",
              "      <td>0</td>\n",
              "      <td>0</td>\n",
              "      <td>139</td>\n",
              "      <td>146</td>\n",
              "      <td>130</td>\n",
              "      <td>135</td>\n",
              "      <td>135</td>\n",
              "      <td>137</td>\n",
              "      <td>125</td>\n",
              "      <td>124</td>\n",
              "      <td>125</td>\n",
              "      <td>121</td>\n",
              "      <td>119</td>\n",
              "      <td>114</td>\n",
              "      <td>130</td>\n",
              "      <td>76</td>\n",
              "      <td>0</td>\n",
              "      <td>0</td>\n",
              "      <td>0</td>\n",
              "      <td>0</td>\n",
              "      <td>0</td>\n",
              "      <td>0</td>\n",
              "    </tr>\n",
              "    <tr>\n",
              "      <th>2</th>\n",
              "      <td>2</td>\n",
              "      <td>0</td>\n",
              "      <td>0</td>\n",
              "      <td>0</td>\n",
              "      <td>0</td>\n",
              "      <td>0</td>\n",
              "      <td>0</td>\n",
              "      <td>0</td>\n",
              "      <td>0</td>\n",
              "      <td>0</td>\n",
              "      <td>22</td>\n",
              "      <td>118</td>\n",
              "      <td>24</td>\n",
              "      <td>0</td>\n",
              "      <td>0</td>\n",
              "      <td>0</td>\n",
              "      <td>0</td>\n",
              "      <td>0</td>\n",
              "      <td>48</td>\n",
              "      <td>88</td>\n",
              "      <td>5</td>\n",
              "      <td>0</td>\n",
              "      <td>0</td>\n",
              "      <td>0</td>\n",
              "      <td>0</td>\n",
              "      <td>0</td>\n",
              "      <td>0</td>\n",
              "      <td>0</td>\n",
              "      <td>0</td>\n",
              "      <td>0</td>\n",
              "      <td>0</td>\n",
              "      <td>0</td>\n",
              "      <td>0</td>\n",
              "      <td>0</td>\n",
              "      <td>0</td>\n",
              "      <td>0</td>\n",
              "      <td>0</td>\n",
              "      <td>12</td>\n",
              "      <td>100</td>\n",
              "      <td>212</td>\n",
              "      <td>...</td>\n",
              "      <td>106</td>\n",
              "      <td>102</td>\n",
              "      <td>75</td>\n",
              "      <td>10</td>\n",
              "      <td>0</td>\n",
              "      <td>0</td>\n",
              "      <td>0</td>\n",
              "      <td>0</td>\n",
              "      <td>0</td>\n",
              "      <td>0</td>\n",
              "      <td>0</td>\n",
              "      <td>0</td>\n",
              "      <td>0</td>\n",
              "      <td>0</td>\n",
              "      <td>0</td>\n",
              "      <td>0</td>\n",
              "      <td>0</td>\n",
              "      <td>0</td>\n",
              "      <td>0</td>\n",
              "      <td>0</td>\n",
              "      <td>1</td>\n",
              "      <td>0</td>\n",
              "      <td>0</td>\n",
              "      <td>0</td>\n",
              "      <td>18</td>\n",
              "      <td>42</td>\n",
              "      <td>57</td>\n",
              "      <td>56</td>\n",
              "      <td>32</td>\n",
              "      <td>8</td>\n",
              "      <td>0</td>\n",
              "      <td>0</td>\n",
              "      <td>1</td>\n",
              "      <td>0</td>\n",
              "      <td>0</td>\n",
              "      <td>0</td>\n",
              "      <td>0</td>\n",
              "      <td>0</td>\n",
              "      <td>0</td>\n",
              "      <td>0</td>\n",
              "    </tr>\n",
              "    <tr>\n",
              "      <th>3</th>\n",
              "      <td>3</td>\n",
              "      <td>0</td>\n",
              "      <td>0</td>\n",
              "      <td>0</td>\n",
              "      <td>0</td>\n",
              "      <td>0</td>\n",
              "      <td>0</td>\n",
              "      <td>0</td>\n",
              "      <td>0</td>\n",
              "      <td>33</td>\n",
              "      <td>96</td>\n",
              "      <td>175</td>\n",
              "      <td>156</td>\n",
              "      <td>64</td>\n",
              "      <td>14</td>\n",
              "      <td>54</td>\n",
              "      <td>137</td>\n",
              "      <td>204</td>\n",
              "      <td>194</td>\n",
              "      <td>102</td>\n",
              "      <td>0</td>\n",
              "      <td>0</td>\n",
              "      <td>0</td>\n",
              "      <td>0</td>\n",
              "      <td>0</td>\n",
              "      <td>0</td>\n",
              "      <td>0</td>\n",
              "      <td>0</td>\n",
              "      <td>0</td>\n",
              "      <td>0</td>\n",
              "      <td>0</td>\n",
              "      <td>0</td>\n",
              "      <td>0</td>\n",
              "      <td>0</td>\n",
              "      <td>0</td>\n",
              "      <td>73</td>\n",
              "      <td>186</td>\n",
              "      <td>177</td>\n",
              "      <td>183</td>\n",
              "      <td>175</td>\n",
              "      <td>...</td>\n",
              "      <td>83</td>\n",
              "      <td>152</td>\n",
              "      <td>85</td>\n",
              "      <td>160</td>\n",
              "      <td>133</td>\n",
              "      <td>100</td>\n",
              "      <td>12</td>\n",
              "      <td>0</td>\n",
              "      <td>0</td>\n",
              "      <td>0</td>\n",
              "      <td>0</td>\n",
              "      <td>0</td>\n",
              "      <td>0</td>\n",
              "      <td>0</td>\n",
              "      <td>0</td>\n",
              "      <td>0</td>\n",
              "      <td>0</td>\n",
              "      <td>0</td>\n",
              "      <td>4</td>\n",
              "      <td>0</td>\n",
              "      <td>2</td>\n",
              "      <td>0</td>\n",
              "      <td>35</td>\n",
              "      <td>4</td>\n",
              "      <td>33</td>\n",
              "      <td>0</td>\n",
              "      <td>0</td>\n",
              "      <td>0</td>\n",
              "      <td>0</td>\n",
              "      <td>0</td>\n",
              "      <td>0</td>\n",
              "      <td>0</td>\n",
              "      <td>0</td>\n",
              "      <td>0</td>\n",
              "      <td>0</td>\n",
              "      <td>0</td>\n",
              "      <td>0</td>\n",
              "      <td>0</td>\n",
              "      <td>0</td>\n",
              "      <td>0</td>\n",
              "    </tr>\n",
              "    <tr>\n",
              "      <th>4</th>\n",
              "      <td>4</td>\n",
              "      <td>0</td>\n",
              "      <td>0</td>\n",
              "      <td>0</td>\n",
              "      <td>0</td>\n",
              "      <td>0</td>\n",
              "      <td>0</td>\n",
              "      <td>0</td>\n",
              "      <td>0</td>\n",
              "      <td>0</td>\n",
              "      <td>0</td>\n",
              "      <td>0</td>\n",
              "      <td>0</td>\n",
              "      <td>0</td>\n",
              "      <td>0</td>\n",
              "      <td>0</td>\n",
              "      <td>0</td>\n",
              "      <td>0</td>\n",
              "      <td>26</td>\n",
              "      <td>0</td>\n",
              "      <td>0</td>\n",
              "      <td>0</td>\n",
              "      <td>0</td>\n",
              "      <td>0</td>\n",
              "      <td>0</td>\n",
              "      <td>0</td>\n",
              "      <td>0</td>\n",
              "      <td>0</td>\n",
              "      <td>0</td>\n",
              "      <td>0</td>\n",
              "      <td>0</td>\n",
              "      <td>0</td>\n",
              "      <td>0</td>\n",
              "      <td>0</td>\n",
              "      <td>0</td>\n",
              "      <td>0</td>\n",
              "      <td>0</td>\n",
              "      <td>189</td>\n",
              "      <td>206</td>\n",
              "      <td>187</td>\n",
              "      <td>...</td>\n",
              "      <td>255</td>\n",
              "      <td>242</td>\n",
              "      <td>255</td>\n",
              "      <td>70</td>\n",
              "      <td>0</td>\n",
              "      <td>0</td>\n",
              "      <td>0</td>\n",
              "      <td>0</td>\n",
              "      <td>0</td>\n",
              "      <td>0</td>\n",
              "      <td>0</td>\n",
              "      <td>0</td>\n",
              "      <td>0</td>\n",
              "      <td>0</td>\n",
              "      <td>0</td>\n",
              "      <td>0</td>\n",
              "      <td>0</td>\n",
              "      <td>0</td>\n",
              "      <td>0</td>\n",
              "      <td>0</td>\n",
              "      <td>0</td>\n",
              "      <td>0</td>\n",
              "      <td>61</td>\n",
              "      <td>102</td>\n",
              "      <td>168</td>\n",
              "      <td>25</td>\n",
              "      <td>0</td>\n",
              "      <td>139</td>\n",
              "      <td>161</td>\n",
              "      <td>74</td>\n",
              "      <td>0</td>\n",
              "      <td>0</td>\n",
              "      <td>0</td>\n",
              "      <td>0</td>\n",
              "      <td>0</td>\n",
              "      <td>0</td>\n",
              "      <td>0</td>\n",
              "      <td>0</td>\n",
              "      <td>0</td>\n",
              "      <td>0</td>\n",
              "    </tr>\n",
              "  </tbody>\n",
              "</table>\n",
              "<p>5 rows × 785 columns</p>\n",
              "</div>"
            ],
            "text/plain": [
              "   Id  0  1  2  3  4  5  6  7  ...  775  776  777  778  779  780  781  782  783\n",
              "0   0  0  0  0  0  0  0  0  0  ...    0    0    0    0    0    0    0    0    0\n",
              "1   1  0  0  0  0  0  1  0  0  ...  114  130   76    0    0    0    0    0    0\n",
              "2   2  0  0  0  0  0  0  0  0  ...    0    1    0    0    0    0    0    0    0\n",
              "3   3  0  0  0  0  0  0  0  0  ...    0    0    0    0    0    0    0    0    0\n",
              "4   4  0  0  0  0  0  0  0  0  ...    0    0    0    0    0    0    0    0    0\n",
              "\n",
              "[5 rows x 785 columns]"
            ]
          },
          "metadata": {
            "tags": []
          },
          "execution_count": 148
        }
      ]
    },
    {
      "cell_type": "code",
      "metadata": {
        "colab": {
          "base_uri": "https://localhost:8080/"
        },
        "id": "Fli86UQ7yuUS",
        "outputId": "d909651f-a552-4209-a783-217bc41097d7"
      },
      "source": [
        "testy = pd.read_csv('testy.csv')\n",
        "print(testy.shape)\n",
        "testy.head()\n",
        "\n",
        "trainX = pd.read_csv('trainX.csv')\n",
        "\n",
        "trainy = pd.read_csv('trainy.csv')\n",
        "# print(trainy.shape)\n",
        "\n"
      ],
      "execution_count": null,
      "outputs": [
        {
          "output_type": "stream",
          "text": [
            "(10000, 2)\n"
          ],
          "name": "stdout"
        }
      ]
    },
    {
      "cell_type": "code",
      "metadata": {
        "colab": {
          "base_uri": "https://localhost:8080/"
        },
        "id": "mr9HOUJEyuUU",
        "outputId": "25dafc65-daab-482f-87a3-d229973bb504"
      },
      "source": [
        "\n",
        "print('trainX:',trainX.shape)\n",
        "print('trainy:',trainy.shape)\n",
        "print('testX:',testX.shape)\n",
        "print('testy:', testy.shape)\n",
        "\n",
        "\n",
        "df_X = pd.concat([trainX, testX], axis=0)\n",
        "print(df_X.shape)\n",
        "df_y = pd.concat([trainy, testy], axis=0)\n",
        "print(df_y.shape)"
      ],
      "execution_count": null,
      "outputs": [
        {
          "output_type": "stream",
          "text": [
            "trainX: (60000, 785)\n",
            "trainy: (60000, 2)\n",
            "testX: (10000, 785)\n",
            "testy: (10000, 2)\n",
            "(70000, 785)\n",
            "(70000, 3)\n"
          ],
          "name": "stdout"
        }
      ]
    },
    {
      "cell_type": "code",
      "metadata": {
        "colab": {
          "base_uri": "https://localhost:8080/"
        },
        "id": "vuyKJVPn01eW",
        "outputId": "26278490-e6fc-45c2-b60c-095bb53411c6"
      },
      "source": [
        "trainX.count()"
      ],
      "execution_count": null,
      "outputs": [
        {
          "output_type": "execute_result",
          "data": {
            "text/plain": [
              "Id     60000\n",
              "0      60000\n",
              "1      60000\n",
              "2      60000\n",
              "3      60000\n",
              "       ...  \n",
              "779    60000\n",
              "780    60000\n",
              "781    60000\n",
              "782    60000\n",
              "783    60000\n",
              "Length: 785, dtype: int64"
            ]
          },
          "metadata": {
            "tags": []
          },
          "execution_count": 151
        }
      ]
    },
    {
      "cell_type": "code",
      "metadata": {
        "colab": {
          "base_uri": "https://localhost:8080/"
        },
        "id": "xG77_ifJ1Bv7",
        "outputId": "ace223a3-ea27-4f5e-c95e-27811c76a849"
      },
      "source": [
        "trainX.nunique()"
      ],
      "execution_count": null,
      "outputs": [
        {
          "output_type": "execute_result",
          "data": {
            "text/plain": [
              "Id     60000\n",
              "0          5\n",
              "1         17\n",
              "2         28\n",
              "3         55\n",
              "       ...  \n",
              "779      254\n",
              "780      246\n",
              "781      231\n",
              "782      182\n",
              "783       68\n",
              "Length: 785, dtype: int64"
            ]
          },
          "metadata": {
            "tags": []
          },
          "execution_count": 152
        }
      ]
    },
    {
      "cell_type": "code",
      "metadata": {
        "colab": {
          "base_uri": "https://localhost:8080/"
        },
        "id": "_9IsFM9-2MSN",
        "outputId": "694178bf-af5a-446b-afb0-8982aeafe7d2"
      },
      "source": [
        "trainy.count()"
      ],
      "execution_count": null,
      "outputs": [
        {
          "output_type": "execute_result",
          "data": {
            "text/plain": [
              "Id        60000\n",
              " Label    60000\n",
              "dtype: int64"
            ]
          },
          "metadata": {
            "tags": []
          },
          "execution_count": 153
        }
      ]
    },
    {
      "cell_type": "code",
      "metadata": {
        "colab": {
          "base_uri": "https://localhost:8080/"
        },
        "id": "1kEszaEj2RVf",
        "outputId": "0b0b167b-a62c-4676-a7f0-8e3173156b5e"
      },
      "source": [
        "trainy.nunique()"
      ],
      "execution_count": null,
      "outputs": [
        {
          "output_type": "execute_result",
          "data": {
            "text/plain": [
              "Id        60000\n",
              " Label        5\n",
              "dtype: int64"
            ]
          },
          "metadata": {
            "tags": []
          },
          "execution_count": 154
        }
      ]
    },
    {
      "cell_type": "code",
      "metadata": {
        "colab": {
          "base_uri": "https://localhost:8080/"
        },
        "id": "2lh9MYZ5yuUV",
        "outputId": "5748b2a2-b1c9-44b4-9fa5-f5762dd5aa95"
      },
      "source": [
        "# The first parameter in reshape indicates the number of examples.\n",
        "# We pass it as -1, which means that it is an unknown dimension and we want numpy to figure it out.\n",
        "x_train = trainX.drop(columns='Id')\n",
        "x_test = testX.drop(columns='Id')\n",
        "y_train = trainy.drop(columns='Id')\n",
        "y_test = testy.drop(columns='Id')\n",
        "\n",
        "# reshape(examples, height, width, channels)\n",
        "x_train = x_train.values.reshape((-1, 28, 28, 1))\n",
        "x_test = x_test.values.reshape((-1, 28, 28, 1))\n",
        "print('x_train:', x_train.shape)\n",
        "print('x_test:', x_test.shape)\n",
        "\n",
        "# df_test.drop('label', axis=1, inplace=True)\n",
        "# df_test = df_test.values.reshape((-1, 28, 28, 1))\n",
        "\n",
        "# You need to make sure that your Image is cast into double/float from int before you do this scaling \n",
        "# as you will most likely generate floating point numbers.\n",
        "# And had it been int, the values will be truncated to zero.\n",
        "\n",
        "\n",
        "x_train = x_train.astype(\"float32\")/255\n",
        "x_test = x_test.astype(\"float32\")/255\n"
      ],
      "execution_count": null,
      "outputs": [
        {
          "output_type": "stream",
          "text": [
            "x_train: (60000, 28, 28, 1)\n",
            "x_test: (10000, 28, 28, 1)\n"
          ],
          "name": "stdout"
        }
      ]
    },
    {
      "cell_type": "code",
      "metadata": {
        "id": "OI_Z8sMTXOxz"
      },
      "source": [
        "y_train=np_utils.to_categorical(y_train)\n",
        "y_test=np_utils.to_categorical(y_test)"
      ],
      "execution_count": null,
      "outputs": []
    },
    {
      "cell_type": "code",
      "metadata": {
        "colab": {
          "base_uri": "https://localhost:8080/",
          "height": 265
        },
        "id": "Y3LSRjjMyuUW",
        "outputId": "ad7198fe-b9a8-440d-e53c-7eb539f86c09"
      },
      "source": [
        "imgtest = x_train[1].reshape((28,28))\n",
        "plt.imshow(imgtest)\n",
        "plt.show()\n"
      ],
      "execution_count": null,
      "outputs": [
        {
          "output_type": "display_data",
          "data": {
            "image/png": "[encoded data removed]",
            "text/plain": [
              "<Figure size 432x288 with 1 Axes>"
            ]
          },
          "metadata": {
            "tags": [],
            "needs_background": "light"
          }
        }
      ]
    },
    {
      "cell_type": "markdown",
      "metadata": {
        "id": "5lANK56_laB9"
      },
      "source": [
        "# CNN models"
      ]
    },
    {
      "cell_type": "markdown",
      "metadata": {
        "id": "HWAsMILtekAb"
      },
      "source": [
        "Model1-Basic Model"
      ]
    },
    {
      "cell_type": "code",
      "metadata": {
        "id": "k0iCxKPG0B5A"
      },
      "source": [
        "model1 = Sequential()\n",
        "model1.add(Conv2D(32, (2, 2), activation='relu', input_shape=(28, 28, 1)))\n",
        "model1.add(MaxPooling2D((2, 2)))\n",
        "model1.add(Conv2D(64, (2, 2), activation='relu'))\n",
        "model1.add(Flatten())\n",
        "model1.add(Dense(5, activation='softmax'))\n",
        "# compile model\n",
        "model1.compile(optimizer='adam', loss='categorical_crossentropy', metrics=['accuracy'])"
      ],
      "execution_count": null,
      "outputs": []
    },
    {
      "cell_type": "code",
      "metadata": {
        "colab": {
          "base_uri": "https://localhost:8080/"
        },
        "id": "xajUOCKvoHym",
        "outputId": "ea3b1eb4-13b5-4df4-b361-042c2440f264"
      },
      "source": [
        "#fit\n",
        "model1_fit = model1.fit(x_train, y_train, validation_split=0.2, batch_size=128,epochs=30)\n",
        "model1.summary()"
      ],
      "execution_count": null,
      "outputs": [
        {
          "output_type": "stream",
          "text": [
            "Epoch 1/30\n",
            "375/375 [==============================] - 3s 6ms/step - loss: 0.8976 - accuracy: 0.6105 - val_loss: 0.6035 - val_accuracy: 0.7496\n",
            "Epoch 2/30\n",
            "375/375 [==============================] - 2s 5ms/step - loss: 0.5554 - accuracy: 0.7745 - val_loss: 0.5295 - val_accuracy: 0.7822\n",
            "Epoch 3/30\n",
            "375/375 [==============================] - 2s 5ms/step - loss: 0.5047 - accuracy: 0.7969 - val_loss: 0.5014 - val_accuracy: 0.7992\n",
            "Epoch 4/30\n",
            "375/375 [==============================] - 2s 5ms/step - loss: 0.4715 - accuracy: 0.8129 - val_loss: 0.4964 - val_accuracy: 0.7956\n",
            "Epoch 5/30\n",
            "375/375 [==============================] - 2s 5ms/step - loss: 0.4437 - accuracy: 0.8221 - val_loss: 0.4539 - val_accuracy: 0.8182\n",
            "Epoch 6/30\n",
            "375/375 [==============================] - 2s 5ms/step - loss: 0.4274 - accuracy: 0.8287 - val_loss: 0.4531 - val_accuracy: 0.8171\n",
            "Epoch 7/30\n",
            "375/375 [==============================] - 2s 5ms/step - loss: 0.4022 - accuracy: 0.8413 - val_loss: 0.4367 - val_accuracy: 0.8241\n",
            "Epoch 8/30\n",
            "375/375 [==============================] - 2s 5ms/step - loss: 0.3915 - accuracy: 0.8457 - val_loss: 0.4335 - val_accuracy: 0.8270\n",
            "Epoch 9/30\n",
            "375/375 [==============================] - 2s 5ms/step - loss: 0.3786 - accuracy: 0.8502 - val_loss: 0.4203 - val_accuracy: 0.8349\n",
            "Epoch 10/30\n",
            "375/375 [==============================] - 2s 5ms/step - loss: 0.3716 - accuracy: 0.8538 - val_loss: 0.4252 - val_accuracy: 0.8317\n",
            "Epoch 11/30\n",
            "375/375 [==============================] - 2s 5ms/step - loss: 0.3659 - accuracy: 0.8529 - val_loss: 0.4117 - val_accuracy: 0.8328\n",
            "Epoch 12/30\n",
            "375/375 [==============================] - 2s 5ms/step - loss: 0.3506 - accuracy: 0.8605 - val_loss: 0.4120 - val_accuracy: 0.8375\n",
            "Epoch 13/30\n",
            "375/375 [==============================] - 2s 5ms/step - loss: 0.3411 - accuracy: 0.8686 - val_loss: 0.4187 - val_accuracy: 0.8349\n",
            "Epoch 14/30\n",
            "375/375 [==============================] - 2s 5ms/step - loss: 0.3358 - accuracy: 0.8676 - val_loss: 0.4035 - val_accuracy: 0.8420\n",
            "Epoch 15/30\n",
            "375/375 [==============================] - 2s 5ms/step - loss: 0.3185 - accuracy: 0.8757 - val_loss: 0.4238 - val_accuracy: 0.8344\n",
            "Epoch 16/30\n",
            "375/375 [==============================] - 2s 5ms/step - loss: 0.3152 - accuracy: 0.8778 - val_loss: 0.4150 - val_accuracy: 0.8388\n",
            "Epoch 17/30\n",
            "375/375 [==============================] - 2s 5ms/step - loss: 0.3082 - accuracy: 0.8817 - val_loss: 0.4106 - val_accuracy: 0.8396\n",
            "Epoch 18/30\n",
            "375/375 [==============================] - 2s 5ms/step - loss: 0.2921 - accuracy: 0.8862 - val_loss: 0.4091 - val_accuracy: 0.8401\n",
            "Epoch 19/30\n",
            "375/375 [==============================] - 2s 5ms/step - loss: 0.2944 - accuracy: 0.8852 - val_loss: 0.4188 - val_accuracy: 0.8371\n",
            "Epoch 20/30\n",
            "375/375 [==============================] - 2s 5ms/step - loss: 0.2844 - accuracy: 0.8909 - val_loss: 0.4069 - val_accuracy: 0.8409\n",
            "Epoch 21/30\n",
            "375/375 [==============================] - 2s 5ms/step - loss: 0.2805 - accuracy: 0.8906 - val_loss: 0.4142 - val_accuracy: 0.8392\n",
            "Epoch 22/30\n",
            "375/375 [==============================] - 2s 5ms/step - loss: 0.2682 - accuracy: 0.8964 - val_loss: 0.4257 - val_accuracy: 0.8398\n",
            "Epoch 23/30\n",
            "375/375 [==============================] - 2s 5ms/step - loss: 0.2587 - accuracy: 0.9020 - val_loss: 0.4239 - val_accuracy: 0.8418\n",
            "Epoch 24/30\n",
            "375/375 [==============================] - 2s 5ms/step - loss: 0.2580 - accuracy: 0.8997 - val_loss: 0.4247 - val_accuracy: 0.8403\n",
            "Epoch 25/30\n",
            "375/375 [==============================] - 2s 5ms/step - loss: 0.2470 - accuracy: 0.9044 - val_loss: 0.4164 - val_accuracy: 0.8484\n",
            "Epoch 26/30\n",
            "375/375 [==============================] - 2s 5ms/step - loss: 0.2421 - accuracy: 0.9083 - val_loss: 0.4349 - val_accuracy: 0.8397\n",
            "Epoch 27/30\n",
            "375/375 [==============================] - 2s 5ms/step - loss: 0.2366 - accuracy: 0.9107 - val_loss: 0.4524 - val_accuracy: 0.8348\n",
            "Epoch 28/30\n",
            "375/375 [==============================] - 2s 5ms/step - loss: 0.2330 - accuracy: 0.9119 - val_loss: 0.4381 - val_accuracy: 0.8402\n",
            "Epoch 29/30\n",
            "375/375 [==============================] - 2s 5ms/step - loss: 0.2215 - accuracy: 0.9161 - val_loss: 0.4401 - val_accuracy: 0.8411\n",
            "Epoch 30/30\n",
            "375/375 [==============================] - 2s 5ms/step - loss: 0.2174 - accuracy: 0.9169 - val_loss: 0.4693 - val_accuracy: 0.8313\n",
            "Model: \"sequential_22\"\n",
            "_________________________________________________________________\n",
            "Layer (type)                 Output Shape              Param #   \n",
            "=================================================================\n",
            "conv2d_38 (Conv2D)           (None, 27, 27, 32)        160       \n",
            "_________________________________________________________________\n",
            "max_pooling2d_23 (MaxPooling (None, 13, 13, 32)        0         \n",
            "_________________________________________________________________\n",
            "conv2d_39 (Conv2D)           (None, 12, 12, 64)        8256      \n",
            "_________________________________________________________________\n",
            "flatten_21 (Flatten)         (None, 9216)              0         \n",
            "_________________________________________________________________\n",
            "dense_50 (Dense)             (None, 5)                 46085     \n",
            "=================================================================\n",
            "Total params: 54,501\n",
            "Trainable params: 54,501\n",
            "Non-trainable params: 0\n",
            "_________________________________________________________________\n"
          ],
          "name": "stdout"
        }
      ]
    },
    {
      "cell_type": "code",
      "metadata": {
        "colab": {
          "base_uri": "https://localhost:8080/"
        },
        "id": "P4vA9rJ2j-Fa",
        "outputId": "b6518484-ee20-4839-ded8-41198fd196d9"
      },
      "source": [
        "#evaluation\n",
        "loss, accuracy = model1.evaluate(x_test,y_test)\n",
        "print(loss, accuracy)"
      ],
      "execution_count": null,
      "outputs": [
        {
          "output_type": "stream",
          "text": [
            "313/313 [==============================] - 1s 2ms/step - loss: 0.4736 - accuracy: 0.8349\n",
            "0.4736327528953552 0.8349000215530396\n"
          ],
          "name": "stdout"
        }
      ]
    },
    {
      "cell_type": "markdown",
      "metadata": {
        "id": "wyanAn89lAyk"
      },
      "source": [
        "Plotting"
      ]
    },
    {
      "cell_type": "code",
      "metadata": {
        "colab": {
          "base_uri": "https://localhost:8080/",
          "height": 369
        },
        "id": "ErzZTx1-_AsL",
        "outputId": "a3b44d4c-baf8-479d-ddb8-b2a7bae23f43"
      },
      "source": [
        "plt.figure(figsize=(15,5))\n",
        "\n",
        "\n",
        "plt.subplot(141)\n",
        "plt.title('Model 1- Training Loss vs Training epoch')\n",
        "plt.plot(model1_fit.history['loss'], label='train_loss', color='blue')\n",
        "plt.xlabel('Epoch')\n",
        "plt.ylabel('Training Loss')\n",
        "plt.legend()\n",
        "\n",
        "\n",
        "plt.subplot(142)\n",
        "plt.title('Model 1-Classification accuracy vs Training epoch')\n",
        "plt.plot(model1_fit.history['val_accuracy'], label='val_acc', color='orange')\n",
        "plt.xlabel('Epoch')\n",
        "plt.ylabel('Classification Accuracy')\n",
        "plt.legend()\n",
        "\n",
        "plt.subplot(143)\n",
        "plt.title('Model 1- Training vs Validation Accuracy')\n",
        "plt.plot(model1_fit.history['accuracy'], label='train_acc', color='red')\n",
        "plt.plot(model1_fit.history['val_accuracy'], label='val_acc', color='green')\n",
        "plt.xlabel('Epoch')\n",
        "plt.ylabel('Accuracy')\n",
        "plt.legend()\n",
        "\n",
        "plt.subplot(144)\n",
        "plt.title('Model 1- Training vs Validation Loss')\n",
        "plt.plot(model1_fit.history['loss'], label='train_loss', color='red')\n",
        "plt.plot(model1_fit.history['val_loss'], label='val_loss', color='green')\n",
        "plt.xlabel('Epoch')\n",
        "plt.ylabel('Loss')\n",
        "plt.legend()\n",
        "\n",
        "\n",
        "plt.tight_layout()"
      ],
      "execution_count": null,
      "outputs": [
        {
          "output_type": "display_data",
          "data": {
            "image/png": "[encoded data removed]",
            "text/plain": [
              "<Figure size 1080x360 with 4 Axes>"
            ]
          },
          "metadata": {
            "tags": [],
            "needs_background": "light"
          }
        }
      ]
    },
    {
      "cell_type": "markdown",
      "metadata": {
        "id": "hd0MYLA1JlZ5"
      },
      "source": [
        "Model2-Improved Model"
      ]
    },
    {
      "cell_type": "code",
      "metadata": {
        "id": "1n7RcwXlJkYs"
      },
      "source": [
        "model2 = Sequential()\n",
        "model2.add(Conv2D(64, (3, 3),padding='same', activation='relu', input_shape=(28, 28, 1)))\n",
        "model2.add(MaxPooling2D((2, 2)))\n",
        "model2.add(Dropout(0.25))\n",
        "model2.add(Conv2D(64, (3, 3), activation='relu'))\n",
        "model2.add(MaxPooling2D((2, 2)))\n",
        "model2.add(Dropout(0.25))\n",
        "model2.add(Conv2D(64, (3, 3), activation='relu'))\n",
        "model2.add(Dropout(0.25))\n",
        "model2.add(Flatten())\n",
        "model2.add(Dense(64, activation='relu'))\n",
        "model2.add(Dropout(0.25))\n",
        "model2.add(Dense(5, activation='softmax'))\n",
        "# compile model\n",
        "model2.compile(optimizer='adam', loss='categorical_crossentropy', metrics=['accuracy'])"
      ],
      "execution_count": null,
      "outputs": []
    },
    {
      "cell_type": "code",
      "metadata": {
        "colab": {
          "base_uri": "https://localhost:8080/"
        },
        "id": "_JKJ6jLpS8tQ",
        "outputId": "f5260adc-f4e3-4c87-9f3c-ac61b36f15e9"
      },
      "source": [
        "#fit\n",
        "model2_fit = model2.fit(x_train, y_train, validation_split=0.2, batch_size=128,epochs=30)\n",
        "model2.summary()"
      ],
      "execution_count": null,
      "outputs": [
        {
          "output_type": "stream",
          "text": [
            "Epoch 1/30\n",
            "375/375 [==============================] - 5s 10ms/step - loss: 1.0115 - accuracy: 0.5452 - val_loss: 0.5012 - val_accuracy: 0.7950\n",
            "Epoch 2/30\n",
            "375/375 [==============================] - 3s 8ms/step - loss: 0.5469 - accuracy: 0.7759 - val_loss: 0.4327 - val_accuracy: 0.8282\n",
            "Epoch 3/30\n",
            "375/375 [==============================] - 3s 8ms/step - loss: 0.4786 - accuracy: 0.8087 - val_loss: 0.3947 - val_accuracy: 0.8475\n",
            "Epoch 4/30\n",
            "375/375 [==============================] - 3s 8ms/step - loss: 0.4454 - accuracy: 0.8189 - val_loss: 0.3617 - val_accuracy: 0.8522\n",
            "Epoch 5/30\n",
            "375/375 [==============================] - 3s 8ms/step - loss: 0.4157 - accuracy: 0.8301 - val_loss: 0.3571 - val_accuracy: 0.8642\n",
            "Epoch 6/30\n",
            "375/375 [==============================] - 3s 8ms/step - loss: 0.4001 - accuracy: 0.8370 - val_loss: 0.3494 - val_accuracy: 0.8611\n",
            "Epoch 7/30\n",
            "375/375 [==============================] - 3s 8ms/step - loss: 0.3918 - accuracy: 0.8396 - val_loss: 0.3412 - val_accuracy: 0.8608\n",
            "Epoch 8/30\n",
            "375/375 [==============================] - 3s 8ms/step - loss: 0.3708 - accuracy: 0.8479 - val_loss: 0.3223 - val_accuracy: 0.8718\n",
            "Epoch 9/30\n",
            "375/375 [==============================] - 3s 8ms/step - loss: 0.3652 - accuracy: 0.8502 - val_loss: 0.3101 - val_accuracy: 0.8775\n",
            "Epoch 10/30\n",
            "375/375 [==============================] - 3s 9ms/step - loss: 0.3545 - accuracy: 0.8572 - val_loss: 0.3167 - val_accuracy: 0.8753\n",
            "Epoch 11/30\n",
            "375/375 [==============================] - 3s 9ms/step - loss: 0.3484 - accuracy: 0.8604 - val_loss: 0.3079 - val_accuracy: 0.8767\n",
            "Epoch 12/30\n",
            "375/375 [==============================] - 3s 8ms/step - loss: 0.3345 - accuracy: 0.8645 - val_loss: 0.3355 - val_accuracy: 0.8581\n",
            "Epoch 13/30\n",
            "375/375 [==============================] - 3s 8ms/step - loss: 0.3471 - accuracy: 0.8598 - val_loss: 0.3931 - val_accuracy: 0.8334\n",
            "Epoch 14/30\n",
            "375/375 [==============================] - 3s 8ms/step - loss: 0.3293 - accuracy: 0.8658 - val_loss: 0.2948 - val_accuracy: 0.8802\n",
            "Epoch 15/30\n",
            "375/375 [==============================] - 3s 8ms/step - loss: 0.3281 - accuracy: 0.8669 - val_loss: 0.3362 - val_accuracy: 0.8612\n",
            "Epoch 16/30\n",
            "375/375 [==============================] - 3s 8ms/step - loss: 0.3118 - accuracy: 0.8742 - val_loss: 0.3167 - val_accuracy: 0.8694\n",
            "Epoch 17/30\n",
            "375/375 [==============================] - 3s 8ms/step - loss: 0.3172 - accuracy: 0.8715 - val_loss: 0.2841 - val_accuracy: 0.8863\n",
            "Epoch 18/30\n",
            "375/375 [==============================] - 3s 8ms/step - loss: 0.3150 - accuracy: 0.8723 - val_loss: 0.2833 - val_accuracy: 0.8869\n",
            "Epoch 19/30\n",
            "375/375 [==============================] - 3s 8ms/step - loss: 0.3074 - accuracy: 0.8752 - val_loss: 0.2823 - val_accuracy: 0.8882\n",
            "Epoch 20/30\n",
            "375/375 [==============================] - 3s 8ms/step - loss: 0.3024 - accuracy: 0.8771 - val_loss: 0.2829 - val_accuracy: 0.8884\n",
            "Epoch 21/30\n",
            "375/375 [==============================] - 3s 8ms/step - loss: 0.3020 - accuracy: 0.8772 - val_loss: 0.2784 - val_accuracy: 0.8895\n",
            "Epoch 22/30\n",
            "375/375 [==============================] - 3s 8ms/step - loss: 0.3058 - accuracy: 0.8753 - val_loss: 0.2726 - val_accuracy: 0.8902\n",
            "Epoch 23/30\n",
            "375/375 [==============================] - 3s 8ms/step - loss: 0.2969 - accuracy: 0.8796 - val_loss: 0.2737 - val_accuracy: 0.8909\n",
            "Epoch 24/30\n",
            "375/375 [==============================] - 3s 8ms/step - loss: 0.2940 - accuracy: 0.8787 - val_loss: 0.2845 - val_accuracy: 0.8874\n",
            "Epoch 25/30\n",
            "375/375 [==============================] - 3s 8ms/step - loss: 0.2887 - accuracy: 0.8823 - val_loss: 0.2674 - val_accuracy: 0.8920\n",
            "Epoch 26/30\n",
            "375/375 [==============================] - 3s 8ms/step - loss: 0.2810 - accuracy: 0.8842 - val_loss: 0.2686 - val_accuracy: 0.8913\n",
            "Epoch 27/30\n",
            "375/375 [==============================] - 3s 8ms/step - loss: 0.2806 - accuracy: 0.8847 - val_loss: 0.2723 - val_accuracy: 0.8904\n",
            "Epoch 28/30\n",
            "375/375 [==============================] - 3s 8ms/step - loss: 0.2791 - accuracy: 0.8850 - val_loss: 0.2785 - val_accuracy: 0.8903\n",
            "Epoch 29/30\n",
            "375/375 [==============================] - 3s 8ms/step - loss: 0.2759 - accuracy: 0.8894 - val_loss: 0.2705 - val_accuracy: 0.8912\n",
            "Epoch 30/30\n",
            "375/375 [==============================] - 3s 8ms/step - loss: 0.2706 - accuracy: 0.8889 - val_loss: 0.2703 - val_accuracy: 0.8949\n",
            "Model: \"sequential_23\"\n",
            "_________________________________________________________________\n",
            "Layer (type)                 Output Shape              Param #   \n",
            "=================================================================\n",
            "conv2d_40 (Conv2D)           (None, 28, 28, 64)        640       \n",
            "_________________________________________________________________\n",
            "max_pooling2d_24 (MaxPooling (None, 14, 14, 64)        0         \n",
            "_________________________________________________________________\n",
            "dropout_32 (Dropout)         (None, 14, 14, 64)        0         \n",
            "_________________________________________________________________\n",
            "conv2d_41 (Conv2D)           (None, 12, 12, 64)        36928     \n",
            "_________________________________________________________________\n",
            "max_pooling2d_25 (MaxPooling (None, 6, 6, 64)          0         \n",
            "_________________________________________________________________\n",
            "dropout_33 (Dropout)         (None, 6, 6, 64)          0         \n",
            "_________________________________________________________________\n",
            "conv2d_42 (Conv2D)           (None, 4, 4, 64)          36928     \n",
            "_________________________________________________________________\n",
            "dropout_34 (Dropout)         (None, 4, 4, 64)          0         \n",
            "_________________________________________________________________\n",
            "flatten_22 (Flatten)         (None, 1024)              0         \n",
            "_________________________________________________________________\n",
            "dense_51 (Dense)             (None, 64)                65600     \n",
            "_________________________________________________________________\n",
            "dropout_35 (Dropout)         (None, 64)                0         \n",
            "_________________________________________________________________\n",
            "dense_52 (Dense)             (None, 5)                 325       \n",
            "=================================================================\n",
            "Total params: 140,421\n",
            "Trainable params: 140,421\n",
            "Non-trainable params: 0\n",
            "_________________________________________________________________\n"
          ],
          "name": "stdout"
        }
      ]
    },
    {
      "cell_type": "code",
      "metadata": {
        "colab": {
          "base_uri": "https://localhost:8080/"
        },
        "id": "9quxF1HCTN9Q",
        "outputId": "2fa4f433-0960-4bfe-d87a-8e72c5d4fab5"
      },
      "source": [
        "#evaluate\n",
        "loss, accuracy = model2.evaluate(x_test,y_test)\n",
        "print(loss, accuracy)"
      ],
      "execution_count": null,
      "outputs": [
        {
          "output_type": "stream",
          "text": [
            "313/313 [==============================] - 1s 3ms/step - loss: 0.2637 - accuracy: 0.8968\n",
            "Total time taken = 0.9s\n",
            "0.2636590301990509 0.8967999815940857\n"
          ],
          "name": "stdout"
        }
      ]
    },
    {
      "cell_type": "markdown",
      "metadata": {
        "id": "6e5zsnFolLiz"
      },
      "source": [
        "Plot"
      ]
    },
    {
      "cell_type": "code",
      "metadata": {
        "colab": {
          "base_uri": "https://localhost:8080/",
          "height": 369
        },
        "id": "eWyfJG-XAPLJ",
        "outputId": "5d1aa15f-d4a9-4c7f-f7a6-5e4d8415b9de"
      },
      "source": [
        "plt.figure(figsize=(15,5))\n",
        "\n",
        "\n",
        "plt.subplot(141)\n",
        "plt.title('Model 2- Training Loss vs Training epoch')\n",
        "plt.plot(model2_fit.history['loss'], label='train_loss', color='blue')\n",
        "plt.xlabel('Epoch')\n",
        "plt.ylabel('Training Loss')\n",
        "plt.legend()\n",
        "\n",
        "\n",
        "plt.subplot(142)\n",
        "plt.title('Model 2-Classification accuracy vs Training epoch')\n",
        "plt.plot(model2_fit.history['val_accuracy'], label='val_acc', color='orange')\n",
        "plt.xlabel('Epoch')\n",
        "plt.ylabel('Classification Accuracy')\n",
        "plt.legend()\n",
        "\n",
        "plt.subplot(143)\n",
        "plt.title('Model 2- Training vs Validation Accuracy')\n",
        "plt.plot(model2_fit.history['accuracy'], label='train_acc', color='red')\n",
        "plt.plot(model2_fit.history['val_accuracy'], label='val_acc', color='green')\n",
        "plt.xlabel('Epoch')\n",
        "plt.ylabel('Accuracy')\n",
        "plt.legend()\n",
        "\n",
        "plt.subplot(144)\n",
        "plt.title('Model 2- Training vs Validation Loss')\n",
        "plt.plot(model2_fit.history['loss'], label='train_loss', color='red')\n",
        "plt.plot(model2_fit.history['val_loss'], label='val_loss', color='green')\n",
        "plt.xlabel('Epoch')\n",
        "plt.ylabel('Loss')\n",
        "plt.legend()\n",
        "\n",
        "\n",
        "plt.tight_layout()"
      ],
      "execution_count": null,
      "outputs": [
        {
          "output_type": "display_data",
          "data": {
            "image/png": "[encoded data removed]",
            "text/plain": [
              "<Figure size 1080x360 with 4 Axes>"
            ]
          },
          "metadata": {
            "tags": [],
            "needs_background": "light"
          }
        }
      ]
    },
    {
      "cell_type": "markdown",
      "metadata": {
        "id": "VAgcqgmBHFdU"
      },
      "source": [
        "#Deep Neural Network Model"
      ]
    },
    {
      "cell_type": "markdown",
      "metadata": {
        "id": "zsCBy7YQ_CMe"
      },
      "source": [
        "Model3- Feed Forward Deep Neural Network"
      ]
    },
    {
      "cell_type": "code",
      "metadata": {
        "id": "AfjXdjeV_BXU"
      },
      "source": [
        "model3=Sequential()\n",
        "model3.add(Flatten())\n",
        "model3.add(Dense(128, activation='relu'))\n",
        "model3.add(Dense(128, activation='relu'))\n",
        "model3.add(Dense(128, activation='relu'))\n",
        "model3.add(Dense(128, activation='relu'))\n",
        "model3.add(Dense(5, activation='softmax'))\n",
        "model3.compile(optimizer='adam', loss='categorical_crossentropy', metrics=['accuracy'])"
      ],
      "execution_count": null,
      "outputs": []
    },
    {
      "cell_type": "code",
      "metadata": {
        "colab": {
          "base_uri": "https://localhost:8080/"
        },
        "id": "DZBW_UtY_rdJ",
        "outputId": "f0a6aab6-0699-4bd9-ff11-eee2b2f25948"
      },
      "source": [
        "#fit\n",
        "model3_fit = model3.fit(x_train, y_train, epochs=30, batch_size=128, validation_split=0.2)\n",
        "model3.summary()"
      ],
      "execution_count": null,
      "outputs": [
        {
          "output_type": "stream",
          "text": [
            "Epoch 1/30\n",
            "375/375 [==============================] - 3s 5ms/step - loss: 0.9242 - accuracy: 0.5926 - val_loss: 0.5918 - val_accuracy: 0.7498\n",
            "Epoch 2/30\n",
            "375/375 [==============================] - 1s 3ms/step - loss: 0.5190 - accuracy: 0.7848 - val_loss: 0.4423 - val_accuracy: 0.8170\n",
            "Epoch 3/30\n",
            "375/375 [==============================] - 1s 3ms/step - loss: 0.4467 - accuracy: 0.8156 - val_loss: 0.4070 - val_accuracy: 0.8372\n",
            "Epoch 4/30\n",
            "375/375 [==============================] - 1s 3ms/step - loss: 0.3780 - accuracy: 0.8456 - val_loss: 0.3759 - val_accuracy: 0.8503\n",
            "Epoch 5/30\n",
            "375/375 [==============================] - 1s 3ms/step - loss: 0.3489 - accuracy: 0.8579 - val_loss: 0.3743 - val_accuracy: 0.8503\n",
            "Epoch 6/30\n",
            "375/375 [==============================] - 1s 3ms/step - loss: 0.3352 - accuracy: 0.8639 - val_loss: 0.3546 - val_accuracy: 0.8606\n",
            "Epoch 7/30\n",
            "375/375 [==============================] - 1s 3ms/step - loss: 0.3177 - accuracy: 0.8689 - val_loss: 0.3664 - val_accuracy: 0.8527\n",
            "Epoch 8/30\n",
            "375/375 [==============================] - 1s 3ms/step - loss: 0.2871 - accuracy: 0.8857 - val_loss: 0.3947 - val_accuracy: 0.8392\n",
            "Epoch 9/30\n",
            "375/375 [==============================] - 1s 3ms/step - loss: 0.2726 - accuracy: 0.8911 - val_loss: 0.3308 - val_accuracy: 0.8737\n",
            "Epoch 10/30\n",
            "375/375 [==============================] - 1s 3ms/step - loss: 0.2590 - accuracy: 0.8945 - val_loss: 0.3180 - val_accuracy: 0.8784\n",
            "Epoch 11/30\n",
            "375/375 [==============================] - 1s 3ms/step - loss: 0.2571 - accuracy: 0.8944 - val_loss: 0.3170 - val_accuracy: 0.8812\n",
            "Epoch 12/30\n",
            "375/375 [==============================] - 1s 3ms/step - loss: 0.2462 - accuracy: 0.9019 - val_loss: 0.3252 - val_accuracy: 0.8788\n",
            "Epoch 13/30\n",
            "375/375 [==============================] - 1s 3ms/step - loss: 0.2376 - accuracy: 0.9056 - val_loss: 0.3376 - val_accuracy: 0.8802\n",
            "Epoch 14/30\n",
            "375/375 [==============================] - 1s 3ms/step - loss: 0.2392 - accuracy: 0.9019 - val_loss: 0.3322 - val_accuracy: 0.8792\n",
            "Epoch 15/30\n",
            "375/375 [==============================] - 1s 3ms/step - loss: 0.2247 - accuracy: 0.9096 - val_loss: 0.3374 - val_accuracy: 0.8753\n",
            "Epoch 16/30\n",
            "375/375 [==============================] - 1s 3ms/step - loss: 0.2137 - accuracy: 0.9140 - val_loss: 0.3629 - val_accuracy: 0.8692\n",
            "Epoch 17/30\n",
            "375/375 [==============================] - 1s 3ms/step - loss: 0.2103 - accuracy: 0.9159 - val_loss: 0.3783 - val_accuracy: 0.8697\n",
            "Epoch 18/30\n",
            "375/375 [==============================] - 1s 3ms/step - loss: 0.2044 - accuracy: 0.9172 - val_loss: 0.3647 - val_accuracy: 0.8672\n",
            "Epoch 19/30\n",
            "375/375 [==============================] - 1s 3ms/step - loss: 0.2096 - accuracy: 0.9139 - val_loss: 0.3383 - val_accuracy: 0.8808\n",
            "Epoch 20/30\n",
            "375/375 [==============================] - 1s 4ms/step - loss: 0.1870 - accuracy: 0.9251 - val_loss: 0.3351 - val_accuracy: 0.8869\n",
            "Epoch 21/30\n",
            "375/375 [==============================] - 1s 3ms/step - loss: 0.1919 - accuracy: 0.9216 - val_loss: 0.3574 - val_accuracy: 0.8844\n",
            "Epoch 22/30\n",
            "375/375 [==============================] - 1s 4ms/step - loss: 0.1844 - accuracy: 0.9270 - val_loss: 0.3414 - val_accuracy: 0.8838\n",
            "Epoch 23/30\n",
            "375/375 [==============================] - 1s 4ms/step - loss: 0.1782 - accuracy: 0.9277 - val_loss: 0.3836 - val_accuracy: 0.8786\n",
            "Epoch 24/30\n",
            "375/375 [==============================] - 1s 4ms/step - loss: 0.1774 - accuracy: 0.9281 - val_loss: 0.3536 - val_accuracy: 0.8888\n",
            "Epoch 25/30\n",
            "375/375 [==============================] - 1s 3ms/step - loss: 0.1759 - accuracy: 0.9292 - val_loss: 0.4029 - val_accuracy: 0.8733\n",
            "Epoch 26/30\n",
            "375/375 [==============================] - 1s 3ms/step - loss: 0.1730 - accuracy: 0.9292 - val_loss: 0.3645 - val_accuracy: 0.8817\n",
            "Epoch 27/30\n",
            "375/375 [==============================] - 1s 3ms/step - loss: 0.1637 - accuracy: 0.9343 - val_loss: 0.3800 - val_accuracy: 0.8808\n",
            "Epoch 28/30\n",
            "375/375 [==============================] - 1s 3ms/step - loss: 0.1540 - accuracy: 0.9380 - val_loss: 0.3799 - val_accuracy: 0.8799\n",
            "Epoch 29/30\n",
            "375/375 [==============================] - 1s 4ms/step - loss: 0.1583 - accuracy: 0.9372 - val_loss: 0.4475 - val_accuracy: 0.8611\n",
            "Epoch 30/30\n",
            "375/375 [==============================] - 1s 4ms/step - loss: 0.1661 - accuracy: 0.9346 - val_loss: 0.3620 - val_accuracy: 0.8938\n",
            "Model: \"sequential_25\"\n",
            "_________________________________________________________________\n",
            "Layer (type)                 Output Shape              Param #   \n",
            "=================================================================\n",
            "flatten_24 (Flatten)         (None, 784)               0         \n",
            "_________________________________________________________________\n",
            "dense_58 (Dense)             (None, 128)               100480    \n",
            "_________________________________________________________________\n",
            "dense_59 (Dense)             (None, 128)               16512     \n",
            "_________________________________________________________________\n",
            "dense_60 (Dense)             (None, 128)               16512     \n",
            "_________________________________________________________________\n",
            "dense_61 (Dense)             (None, 128)               16512     \n",
            "_________________________________________________________________\n",
            "dense_62 (Dense)             (None, 5)                 645       \n",
            "=================================================================\n",
            "Total params: 150,661\n",
            "Trainable params: 150,661\n",
            "Non-trainable params: 0\n",
            "_________________________________________________________________\n"
          ],
          "name": "stdout"
        }
      ]
    },
    {
      "cell_type": "code",
      "metadata": {
        "colab": {
          "base_uri": "https://localhost:8080/"
        },
        "id": "2RL0yH8-s1bC",
        "outputId": "7b5c1ae1-86b0-4abd-b299-74f0e8d743a5"
      },
      "source": [
        "#evaluate\n",
        "loss, accuracy = model3.evaluate(x_test,y_test)\n",
        "print(loss, accuracy)"
      ],
      "execution_count": null,
      "outputs": [
        {
          "output_type": "stream",
          "text": [
            "313/313 [==============================] - 1s 2ms/step - loss: 0.3402 - accuracy: 0.8897\n",
            "0.3401506245136261 0.8896999955177307\n"
          ],
          "name": "stdout"
        }
      ]
    },
    {
      "cell_type": "markdown",
      "metadata": {
        "id": "IlLFiPlTlWTJ"
      },
      "source": [
        "Plotting"
      ]
    },
    {
      "cell_type": "code",
      "metadata": {
        "colab": {
          "base_uri": "https://localhost:8080/",
          "height": 369
        },
        "id": "2R8_GZepw5dD",
        "outputId": "34387103-efd6-485c-8677-f705037a2917"
      },
      "source": [
        "plt.figure(figsize=(15,5))\n",
        "\n",
        "\n",
        "plt.subplot(141)\n",
        "plt.title('Model 3- Training Loss vs Training epoch')\n",
        "plt.plot(model3_fit.history['loss'], label='train_loss', color='blue')\n",
        "plt.xlabel('Epoch')\n",
        "plt.ylabel('Training Loss')\n",
        "plt.legend()\n",
        "\n",
        "\n",
        "plt.subplot(142)\n",
        "plt.title('Model 3-Classification accuracy vs Training epoch')\n",
        "plt.plot(model3_fit.history['val_accuracy'], label='val_acc', color='orange')\n",
        "plt.xlabel('Epoch')\n",
        "plt.ylabel('Classification Accuracy')\n",
        "plt.legend()\n",
        "\n",
        "plt.subplot(143)\n",
        "plt.title('Model 3- Training vs Validation Accuracy')\n",
        "plt.plot(model3_fit.history['accuracy'], label='train_acc', color='red')\n",
        "plt.plot(model3_fit.history['val_accuracy'], label='val_acc', color='green')\n",
        "plt.xlabel('Epoch')\n",
        "plt.ylabel('Accuracy')\n",
        "plt.legend()\n",
        "\n",
        "plt.subplot(144)\n",
        "plt.title('Model 3- Training vs Validation Loss')\n",
        "plt.plot(model3_fit.history['loss'], label='train_loss', color='red')\n",
        "plt.plot(model3_fit.history['val_loss'], label='val_loss', color='green')\n",
        "plt.xlabel('Epoch')\n",
        "plt.ylabel('Loss')\n",
        "plt.legend()\n",
        "\n",
        "\n",
        "plt.tight_layout()"
      ],
      "execution_count": null,
      "outputs": [
        {
          "output_type": "display_data",
          "data": {
            "image/png": "[encoded data removed]",
            "text/plain": [
              "<Figure size 1080x360 with 4 Axes>"
            ]
          },
          "metadata": {
            "tags": [],
            "needs_background": "light"
          }
        }
      ]
    }
  ]
}